{
 "cells": [
  {
   "cell_type": "markdown",
   "metadata": {},
   "source": [
    "Turn the [Jaspar](http://jaspar.genereg.net) experiments at  https://github.com/TomConlin/Jaspar_FA \n",
    "into [RDF](https://en.wikipedia.org/wiki/Resource_Description_Framework) to load into a [triplestore](https://en.wikipedia.org/wiki/Triplestore)  \n",
    "This work is done for the Monarch's Translator project"
   ]
  },
  {
   "cell_type": "code",
   "execution_count": 1,
   "metadata": {
    "collapsed": true
   },
   "outputs": [],
   "source": [
    "import csv\n",
    "import hashlib\n",
    "import re\n",
    "import yaml\n",
    "import os, stat"
   ]
  },
  {
   "cell_type": "markdown",
   "metadata": {},
   "source": [
    "The triples to generate may be found by extracting them from the  \n",
    "graphical model ```jaspar_target_model.gv``` which is encoding the relations  \n",
    "in the [GraphViz]() [dot]() format\n"
   ]
  },
  {
   "cell_type": "markdown",
   "metadata": {},
   "source": [
    "an image is generated with   \n",
    "    ```dot -T png jaspar_target_model.gv > jaspar_target_model.png```"
   ]
  },
  {
   "cell_type": "markdown",
   "metadata": {},
   "source": [
    "![Jaspar Target model](jaspar_target_model.png)"
   ]
  },
  {
   "cell_type": "markdown",
   "metadata": {},
   "source": [
    "Extract the psudo RDF triples to use as templates for what needs to be genreated.  \n",
    "\n",
    "```sed 's|//.*||g' jaspar_target_model.gv|\\\n",
    "awk -F'\"' '/.* -> .*/ {print \"# <\" $2 \"><\" $6 \"><\" $4 \">\"}' jaspar_target_model.gv```"
   ]
  },
  {
   "cell_type": "raw",
   "metadata": {
    "collapsed": true
   },
   "source": [
    "# <NCBIGene:123><SO:adjacent_to><BNODE:gene1_upstream_region>\n",
    "# <BNODE:gene1_upstream_region><rdfs:label><gene1_upstream_region>\n",
    "# <BNODE:gene1_upstream_region><GENO:has_extent><1000 (region extent bp)>\n",
    "# <BNODE:gene1_upstream_region><rdf:type><SO:five_prime_flanking_region>\n",
    "# <BNODE:gene1_upstream_region><rdf:comment><Candidate SO:TF_binding_sites>\n",
    "# <BNODE:motif_set><rdfs:label><motif_set_sig>\n",
    "# <BNODE:motif_set><rdf:type><SIO:collection>\n",
    "# <BNODE:motif_set><rdf:value><3 (flavors)>\n",
    "# <BNODE:motif_set><OIO:hasdbxref><http:JASPAR:motif>\n",
    "# <BNODE:motif_set><OIO:subset><BNODE:motif_set>\n",
    "# <BNODE:motif_set><RO:has member><JASPAR:motif>\n",
    "# <JASPAR:motif><rdf:type><SO:nucleotide_motif>\n",
    "# <JASPAR:motif><OIO:hasdbxref><http:JASPAR:motif>\n",
    "# <JASPAR:motif><rdfs:label><motif>\n",
    "# <BNODE:gene1_upstream_region><RO:member of><BNODE:pairwise similarity>\n",
    "# <BNODE:gene2_upstream_region><RO:member of><BNODE:pairwise similarity>\n",
    "# <BNODE:pairwise similarity><rdfs:label><gene1_region gene2_region>\n",
    "# <BNODE:pairwise similarity><SWO:Similarity score><0.73>\n",
    "# <BNODE:pairwise similarity><rdf:type><SWO:Jaccard’s index>\n"
   ]
  },
  {
   "cell_type": "markdown",
   "metadata": {},
   "source": [
    "A few conveniance functions from Monarch's dipper"
   ]
  },
  {
   "cell_type": "code",
   "execution_count": 2,
   "metadata": {
    "collapsed": true
   },
   "outputs": [],
   "source": [
    "# return a deterministic digest of input\n",
    "# the 'b' is an experiment forcing the first char to be\n",
    "# non numeric but valid hex\n",
    "# which is in no way required for RDF\n",
    "# but can help when using the identifier in other contexts\n",
    "# where the first char of an identifier \n",
    "# is expected to be non numeric (such as 'C')\n",
    "def digest_id(wordage):\n",
    "    return 'b' + hashlib.sha1(wordage.encode('utf-8')).hexdigest()[1:20]"
   ]
  },
  {
   "cell_type": "code",
   "execution_count": 3,
   "metadata": {
    "collapsed": true
   },
   "outputs": [],
   "source": [
    "# regular expression to limit what is found in the CURIE identifier\n",
    "# it is ascii centric and may(will) not pass some valid utf8 curies\n",
    "CURIERE = re.compile(r'^.*:[A-Za-z0-9_][A-Za-z0-9_.]*[A-Za-z0-9_]*$')"
   ]
  },
  {
   "cell_type": "code",
   "execution_count": 4,
   "metadata": {
    "collapsed": true
   },
   "outputs": [],
   "source": [
    "with open('translation_tables/curie_map.yaml') as f:\n",
    "    CURIEMAP = yaml.load(f) "
   ]
  },
  {
   "cell_type": "code",
   "execution_count": 5,
   "metadata": {
    "collapsed": true
   },
   "outputs": [],
   "source": [
    "# Translate labels found in ontologies\n",
    "# to the terms they are for\n",
    "with open('translation_tables/translation_table.yaml') as f:\n",
    "    TT = yaml.load(f)           "
   ]
  },
  {
   "cell_type": "code",
   "execution_count": 6,
   "metadata": {
    "collapsed": true
   },
   "outputs": [],
   "source": [
    "# Translate external strings found in datasets\n",
    "# to specific labels found in ontologies\n",
    "with open('translation_tables/jaspar.yaml') as f:\n",
    "    LT = yaml.load(f)"
   ]
  },
  {
   "cell_type": "code",
   "execution_count": 7,
   "metadata": {
    "collapsed": true
   },
   "outputs": [],
   "source": [
    "def resolve(label):  # , local_tt):\n",
    "    '''\n",
    "    composed mapping \n",
    "    given x, f() and g(), here Local & Global \n",
    "    translation tables respectivly\n",
    "    return g(x) | g(f(x)) | f(x) in order of preference\n",
    "    (TODO consider returning x on fall through)\n",
    "\n",
    "    : return as close to a global mapping  x as we can manage\n",
    "\n",
    "    '''\n",
    "    \n",
    "    if label is not None and label in TT:\n",
    "        term_id = TT[label]\n",
    "    elif label is not None and label in LT:\n",
    "        label = LT[label]\n",
    "        if label in TT:\n",
    "            term_id = TT[label]\n",
    "        else:\n",
    "            # print('Translated but do not have a term_id for label: ' + label) \n",
    "            term_id = label\n",
    "    else:\n",
    "        \n",
    "        #print('Do not have any mapping for label: ' + label)\n",
    "        term_id = label\n",
    "    return term_id"
   ]
  },
  {
   "cell_type": "code",
   "execution_count": 8,
   "metadata": {
    "collapsed": true
   },
   "outputs": [],
   "source": [
    "def make_spo(sub, prd, obj):\n",
    "    '''\n",
    "    Decorates the three given strings as a line of ntriples\n",
    "\n",
    "    '''\n",
    "    # To establish string as a curi and expand we use a global curie_map(.yaml)\n",
    "    # sub are allways uri  (unless a bnode)\n",
    "    # prd are allways uri (unless prd is 'a')\n",
    "    # should fail loudly if curie does not exist\n",
    "    if prd == 'a':\n",
    "        prd = 'rdf:type'\n",
    "\n",
    "    (subcuri, subid) = re.split(r':', sub)\n",
    "    (prdcuri, prdid) = re.split(r':', prd)\n",
    "    objt = ''\n",
    "\n",
    "    # object is a curie or bnode or literal [string|number]\n",
    "    match = re.match(CURIERE, obj)\n",
    "    objcuri = None\n",
    "    if match is not None:\n",
    "        try:\n",
    "            (objcuri, objid) = re.split(r':', obj)\n",
    "        except ValueError:\n",
    "            match = None\n",
    "    if match is not None and objcuri in CURIEMAP:\n",
    "        objt = CURIEMAP[objcuri] + objid\n",
    "        # allow unexpanded bnodes in object\n",
    "        if objcuri != '_' or CURIEMAP[objcuri] != '_:':\n",
    "            objt = '<' + objt + '>'\n",
    "    elif obj.isnumeric():\n",
    "        objt = '\"' + obj + '\"'\n",
    "    else:\n",
    "        # Literals may not contain the characters \", LF, CR '\\'\n",
    "        # except in their escaped forms. internal quotes as well.\n",
    "        obj = obj.strip('\"').replace('\\\\', '\\\\\\\\').replace('\"', '\\'')\n",
    "        obj = obj.replace('\\n', '\\\\n').replace('\\r', '\\\\r')\n",
    "        objt = '\"' + obj + '\"'\n",
    "\n",
    "    # allow unexpanded bnodes in subject\n",
    "    if subcuri is not None and subcuri in CURIEMAP and \\\n",
    "            prdcuri is not None and prdcuri in CURIEMAP:\n",
    "        subjt = CURIEMAP[subcuri] + subid\n",
    "        if subcuri != '_' or CURIEMAP[subcuri] != '_:':\n",
    "            subjt = '<' + subjt + '>'\n",
    "\n",
    "        return subjt + ' <' + CURIEMAP[prdcuri] + prdid + '> ' + objt + ' .'\n",
    "    else:\n",
    "        print('Cant work with: ', subcuri, subid,  prdcuri, prdid, objt)\n",
    "        return None\n"
   ]
  },
  {
   "cell_type": "code",
   "execution_count": 9,
   "metadata": {
    "collapsed": true
   },
   "outputs": [],
   "source": [
    "def write_triple(sub, prd, obj):\n",
    "    triples.append(make_spo(sub,prd, obj))"
   ]
  },
  {
   "cell_type": "code",
   "execution_count": 10,
   "metadata": {
    "collapsed": true
   },
   "outputs": [],
   "source": [
    "# gene start regions have a centroid and contain a set of motifs\n",
    "# sets of motifs are taken as signatures \n",
    "# which may be shared by different regions\n",
    "regions = {\n",
    "    '1k' : {'f1' : 'gene_motifsetsig_1k.tab'}, \n",
    "    '2k' : {'f1' : 'gene_motifsetsig_2k.tab'},\n",
    "    '5k' : {'f1' : 'gene_motifsetsig_5k.tab'}\n",
    "}"
   ]
  },
  {
   "cell_type": "markdown",
   "metadata": {},
   "source": [
    "The triples to produce from these ```gene_motifsetsig_?k.tab``` files are:\n",
    "\n",
    "    # <NCBIGene:123><SO:adjacent_to><BNODE:gene_upstream_region>\n",
    "    # <BNODE:gene_upstream_region><rdfs:label><gene_upstream_region>\n",
    "    # <BNODE:gene_upstream_region><GENO:has_extent><1000 (region extent bp)>\n",
    "    # <BNODE:gene_upstream_region><rdf:type><SO:five_prime_flanking_region>\n",
    "    # <BNODE:motif_set><rdfs:label><motif_set_sig>\n",
    "    # <BNODE:motif_set><rdf:type><SIO:collection>\n"
   ]
  },
  {
   "cell_type": "code",
   "execution_count": 11,
   "metadata": {
    "collapsed": true
   },
   "outputs": [],
   "source": [
    "triples = []\n",
    "\n",
    "for extent in regions:\n",
    "    # print(extent)\n",
    "    # print(regions[extent])\n",
    "    for fname in regions[extent]:\n",
    "       # print(fname)\n",
    "       # print(regions[extent][fname])    \n",
    "        with open(regions[extent][fname], 'r') as tabfile:\n",
    "            filereader = csv.reader(tabfile, delimiter='\\t')\n",
    "            for row in filereader:   \n",
    "                (geneid, centroid, motifsetsig, count) = row\n",
    "                gene = 'NCBIGene:' + str(geneid)\n",
    "                region_label = gene + \"_up\"  + extent + \"_@\" + centroid\n",
    "                region = '_:' + digest_id(region_label)\n",
    "                motifset = '_:' + digest_id(motifsetsig)\n",
    "    \n",
    "                # using the triple templates extracted from the GraphViz target model\n",
    "    \n",
    "                # <NCBIGene_123><SO:adjacent_to><BNODE:gene_upstream_region>\n",
    "                write_triple(gene, resolve('SO:adjacent_to'), region)\n",
    "                # <BNODE:gene_upstream_region><rdfs:label><gene_upstream_region>\n",
    "                write_triple(region, resolve('rdfs:label'), region_label)\n",
    "                # <BNODE:gene_upstream_region><GENO:has_extent><1000>\n",
    "                write_triple(region, resolve('GENO:has_extent'), extent)\n",
    "                # <BNODE:gene_upstream_region><rdf:type><SO:five_prime_flanking_region>\n",
    "                write_triple(region, 'rdf:type', resolve('SO:five_prime_flanking_region'))\n",
    "                # <BNODE:motif_set><rdfs:label><motif_set_sig>\n",
    "                write_triple(motifset, 'rdfs:label', motifsetsig)\n",
    "                # <BNODE:motif_set><rdf:type><SIO:collection>\n",
    "                write_triple(motifset, 'rdf:type', resolve('SIO:collection'))"
   ]
  },
  {
   "cell_type": "code",
   "execution_count": 12,
   "metadata": {},
   "outputs": [
    {
     "data": {
      "text/plain": [
       "278862"
      ]
     },
     "execution_count": 12,
     "metadata": {},
     "output_type": "execute_result"
    }
   ],
   "source": [
    "len(triples)"
   ]
  },
  {
   "cell_type": "code",
   "execution_count": 13,
   "metadata": {},
   "outputs": [
    {
     "name": "stdout",
     "output_type": "stream",
     "text": [
      "<https://127.0.0.1/.well-known/genid/b605d866a434b979359a> <http://www.w3.org/2000/01/rdf-schema#label> \"NCBIGene:100037417_up2k_@+24308025\" .\n",
      "<https://127.0.0.1/.well-known/genid/bab65abf77bc97165a69> <http://www.w3.org/1999/02/22-rdf-syntax-ns#type> \"SIO:000616\" .\n"
     ]
    }
   ],
   "source": [
    "print(triples[1])\n",
    "print(triples[len(triples)-1])"
   ]
  },
  {
   "cell_type": "markdown",
   "metadata": {},
   "source": [
    "splitting the size of the motifset out b/c it is independent of the gene start regions\n",
    "\n",
    "    # <BNODE:motif_set><rdf:value><3>\n",
    "    \n",
    "in `motifsetsig_count.tab`"
   ]
  },
  {
   "cell_type": "code",
   "execution_count": 14,
   "metadata": {
    "collapsed": true
   },
   "outputs": [],
   "source": [
    "with open('motifsetsig_count.tab', 'r') as tabfile:\n",
    "    filereader = csv.reader(tabfile, delimiter='\\t')\n",
    "    for row in filereader:   \n",
    "        (motifsetsig, count) = row\n",
    "        motifset = '_:' + digest_id(motifsetsig)\n",
    "        # <BNODE:motif_set><rdf:value><3>\n",
    "        write_triple(motifset, 'rdf:value', count)"
   ]
  },
  {
   "cell_type": "code",
   "execution_count": 15,
   "metadata": {},
   "outputs": [
    {
     "name": "stdout",
     "output_type": "stream",
     "text": [
      "284861\n",
      "<https://127.0.0.1/.well-known/genid/ba4b9237bacccdf19c07> <http://www.w3.org/1999/02/22-rdf-syntax-ns#value> \"1\" .\n"
     ]
    }
   ],
   "source": [
    "print(len(triples))\n",
    "print(triples[len(triples)-1])"
   ]
  },
  {
   "cell_type": "markdown",
   "metadata": {},
   "source": [
    "these may not turn out to be relevent, but will keep them for now  \n",
    "\n",
    "    # <BNODE:motif_set><OIO:subset><BNODE:motif_set>\n",
    "\n",
    "comes from `motifsetsig_subset.tab`  "
   ]
  },
  {
   "cell_type": "code",
   "execution_count": 16,
   "metadata": {
    "collapsed": true
   },
   "outputs": [],
   "source": [
    "with open('motifsetsig_subset.tab', 'r') as tabfile:\n",
    "    filereader = csv.reader(tabfile, delimiter='\\t')\n",
    "    for row in filereader:     \n",
    "        (motifsetsig, subsetsig) = row\n",
    "        motifset = '_:' + digest_id(motifsetsig)\n",
    "        subset = '_:' + digest_id(subsetsig)\n",
    "        # <BNODE:motif_set><OIO:subset><BNODE:motif_set>\n",
    "        write_triple(motifset,  resolve('OIO:subset'), subset)"
   ]
  },
  {
   "cell_type": "code",
   "execution_count": 17,
   "metadata": {},
   "outputs": [
    {
     "name": "stdout",
     "output_type": "stream",
     "text": [
      "295223\n",
      "<https://127.0.0.1/.well-known/genid/b1d5781111d84f7b3fe4> <http://www.geneontology.org/formats/oboInOwl#subset> <https://127.0.0.1/.well-known/genid/be5dbbcea5ce7e2988b8> .\n"
     ]
    }
   ],
   "source": [
    "print(len(triples))\n",
    "print(triples[len(triples)-1])"
   ]
  },
  {
   "cell_type": "markdown",
   "metadata": {},
   "source": [
    "    # <BNODE:motif_set><OIO:hasdbxref><http:JASPAR:motif>\n",
    "or      \n",
    "    # <BNODE:motif_set><RO:has member><JASPAR:motif> \n",
    "    \n",
    "will just do the first with data from `motifsetsig_motif.tab`"
   ]
  },
  {
   "cell_type": "code",
   "execution_count": 18,
   "metadata": {
    "collapsed": true
   },
   "outputs": [],
   "source": [
    "with open('motifsetsig_motif.tab', 'r') as tabfile:\n",
    "    filereader = csv.reader(tabfile, delimiter='\\t')\n",
    "    for row in filereader:     \n",
    "        (motifsetsig, motif) = row\n",
    "        motifset = '_:' + digest_id(motifsetsig)\n",
    "        # <BNODE:motif_set><OIO:hasdbxref><http:JASPAR:motif>\n",
    "        write_triple(motifset, 'OIO:hasDbXref', \"JASPAR:\" + motif)"
   ]
  },
  {
   "cell_type": "code",
   "execution_count": 19,
   "metadata": {},
   "outputs": [
    {
     "name": "stdout",
     "output_type": "stream",
     "text": [
      "344019\n",
      "<https://127.0.0.1/.well-known/genid/b093da02f1d652201da3> <http://www.geneontology.org/formats/oboInOwl#hasDbXref> <http://fantom.gsc.riken.jp/5/sstar/JASPAR_motif:MA0940.1> .\n"
     ]
    }
   ],
   "source": [
    "print(len(triples))\n",
    "print(triples[len(triples)-1])"
   ]
  },
  {
   "cell_type": "markdown",
   "metadata": {
    "collapsed": true
   },
   "source": [
    "    # <BNODE:gene_upstream_region><RO:member of><BNODE:gene_jaccard_value>\n",
    "    # <BNODE:gene2_upstream_region><RO:member of><BNODE:gene_jaccard_value>\n",
    "    \n",
    "    # <BNODE:gene_jaccard_value><rdfs:label><gene1_region gene2_region>\n",
    "    # <BNODE:gene_jaccard_value><SWO:Similarity score>\t<0.73>\n",
    "    # <BNODE:gene_jaccard_value><rdf:type><SWO:Jaccard’s index> \n",
    "    \n",
    " previously created    \n",
    "    gene = 'NCBIGene:' + str(geneid)  \n",
    "    region_label = gene + \"_up\"  + extent + \"_@\" + centroid  \n",
    "    region = '_:' + digest_id(region_label)  \n",
    "    \n",
    " will need   \n",
    "    (extent)    gene1 region1    gene2 region2   jaccard  \n",
    "    \n",
    " maybe also  \n",
    "    \n",
    "    (extent)    gene    dimotifsig  \n",
    "    \n",
    "    \n",
    "    \n",
    "    \n",
    "    "
   ]
  },
  {
   "cell_type": "code",
   "execution_count": 20,
   "metadata": {
    "scrolled": true
   },
   "outputs": [
    {
     "name": "stdout",
     "output_type": "stream",
     "text": [
      "566639\n",
      "<https://127.0.0.1/.well-known/genid/be5d2a55c4233584cb7d> <http://purl.obolibrary.org/obo/RO_0002350> <https://127.0.0.1/.well-known/genid/b4275d1c825047bba10b> .\n",
      "749874\n",
      "<https://127.0.0.1/.well-known/genid/b5c5785d54897c75a149> <http://purl.obolibrary.org/obo/RO_0002350> <https://127.0.0.1/.well-known/genid/b7ceb735bad75d8b2d19> .\n",
      "1019589\n",
      "<https://127.0.0.1/.well-known/genid/b2fe455e351721a178cb> <http://purl.obolibrary.org/obo/RO_0002350> <https://127.0.0.1/.well-known/genid/b74270061446a824056b> .\n"
     ]
    }
   ],
   "source": [
    "dimotif_regions = {    \n",
    "    '1k' : {'f1' : 'gene_pair_dimotif_jaccard_1k.tab'}, \n",
    "    '2k' : {'f1' : 'gene_pair_dimotif_jaccard_2k.tab'},\n",
    "    '5k' : {'f1' : 'gene_pair_dimotif_jaccard_5k.tab'}\n",
    "}\n",
    "\n",
    "for extent in dimotif_regions:\n",
    "    # print(extent)\n",
    "    # print(regions[extent])\n",
    "    for fname in dimotif_regions[extent]:\n",
    "       # print(fname)\n",
    "       # print(regions[extent][fname])    \n",
    "        with open(dimotif_regions[extent][fname], 'r') as tabfile:\n",
    "            filereader = csv.reader(tabfile, delimiter='\\t')\n",
    "            for row in filereader:    \n",
    "                (gene1id, centroid1, gene2id, centroid2, jaccard) = row\n",
    "                gene1 = 'NCBIGene:' + str(gene1id)\n",
    "                region1_label = gene1 + \"_up\"  + extent + \"_@\" + centroid1\n",
    "                gene2 = 'NCBIGene:' + str(gene2id)\n",
    "                region2_label = gene2 + \"_up\"  + extent + \"_@\" + centroid2\n",
    "                pairwise_label = region1_label + \" & \" + region2_label\n",
    "                pairwise_id =  \"_:\" + digest_id(pairwise_label)\n",
    "                # <BNODE:gene_jaccard_value><rdf:type><SWO:Jaccard’s index>\n",
    "                write_triple(pairwise_id, 'rdf:type', resolve(\"SWO:Jaccard's index\"))\n",
    "                # <BNODE:gene_jaccard_value><rdfs:label><gene1_region gene2_region>\n",
    "                write_triple(pairwise_id, 'rdfs:label', pairwise_label)\n",
    "                # <BNODE:gene_jaccard_value><SWO:Similarity score>\t<0.73>\n",
    "                write_triple(pairwise_id,  resolve('SWO:Similarity score'), jaccard) \n",
    "                # <BNODE:gene1_upstream_region><RO:member of><BNODE:gene_jaccard_value>\n",
    "                write_triple (\"_:\" + digest_id(region1_label),  resolve('RO:member of'), pairwise_id)     \n",
    "                # <BNODE:gene2_upstream_region><RO:member of><BNODE:gene_jaccard_value>\n",
    "                write_triple (\"_:\" + digest_id(region2_label),  resolve('RO:member of'), pairwise_id)\n",
    "        print(len(triples))\n",
    "        print(triples[len(triples)-1])\n",
    "   \n",
    "                \n",
    "                "
   ]
  },
  {
   "cell_type": "code",
   "execution_count": 21,
   "metadata": {},
   "outputs": [],
   "source": [
    "fh = open('jaspar.nt', 'w')\n",
    "print('\\n'.join(list(set(triples))), file=fh)\n",
    "fh.close()\n",
    "\n",
    "# a readable copy for blazegraph \n",
    "fh = open('/tmp/jaspar.nt', 'w')\n",
    "print('\\n'.join(list(set(triples))), file=fh)\n",
    "os.chmod('/tmp/jaspar.nt', 644)\n",
    "fh.close()"
   ]
  },
  {
   "cell_type": "code",
   "execution_count": null,
   "metadata": {},
   "outputs": [],
   "source": []
  }
 ],
 "metadata": {
  "kernelspec": {
   "display_name": "Python 3",
   "language": "python",
   "name": "python3"
  },
  "language_info": {
   "codemirror_mode": {
    "name": "ipython",
    "version": 3
   },
   "file_extension": ".py",
   "mimetype": "text/x-python",
   "name": "python",
   "nbconvert_exporter": "python",
   "pygments_lexer": "ipython3",
   "version": "3.5.2"
  }
 },
 "nbformat": 4,
 "nbformat_minor": 2
}
